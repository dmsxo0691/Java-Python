{
 "cells": [
  {
   "cell_type": "code",
   "execution_count": 6,
   "metadata": {},
   "outputs": [
    {
     "name": "stdout",
     "output_type": "stream",
     "text": [
      "{'세종특별자치시  조치원읍(3611025000)': ['20,795', '20,811', '20,742', '20,707', '20,710', '20,653', '20,612', '20,580', '20,522', '20,479', '20,407', '20,379'], '세종특별자치시  연기면(3611031000)': ['1,200', '1,212', '1,213', '1,214', '1,209', '1,204', '1,193', '1,185', '1,176', '1,163', '1,166', '1,162'], '세종특별자치시  연동면(3611032000)': ['1,484', '1,486', '1,476', '1,478', '1,476', '1,458', '1,466', '1,458', '1,458', '1,460', '1,447', '1,434'], '세종특별자치시  부강면(3611033000)': ['2,777', '2,768', '2,759', '2,750', '2,727', '2,717', '2,709', '2,698', '2,702', '2,700', '2,689', '2,653'], '세종특별자치시  금남면(3611034000)': ['4,235', '4,225', '4,205', '4,206', '4,193', '4,171', '4,147', '4,108', '4,107', '4,107', '4,084', '4,067'], '세종특별자치시  장군면(3611035000)': ['2,946', '2,953', '2,944', '2,940', '2,945', '2,958', '2,950', '2,915', '2,924', '2,900', '2,890', '2,868'], '세종특별자치시  연서면(3611036000)': ['3,359', '3,353', '3,338', '3,315', '3,326', '3,321', '3,303', '3,309', '3,318', '3,311', '3,308', '3,313'], '세종특별자치시  전의면(3611037000)': ['2,577', '2,574', '2,571', '2,572', '2,577', '2,567', '2,572', '2,569', '2,573', '2,577', '2,577', '2,578'], '세종특별자치시  전동면(3611038000)': ['1,563', '1,558', '1,555', '1,544', '1,553', '1,554', '1,551', '1,546', '1,554', '1,542', '1,546', '1,536'], '세종특별자치시  소정면(3611039000)': ['1,084', '1,079', '1,066', '1,064', '1,061', '1,055', '1,052', '1,047', '1,041', '1,042', '1,041', '1,029'], '세종특별자치시  한솔동(3611051000)': ['9,594', '9,553', '9,464', '9,419', '9,428', '9,418', '9,368', '9,337', '9,326', '9,314', '9,308', '9,296'], '세종특별자치시  새롬동(3611051500)': ['19,090', '19,522', '19,637', '19,833', '20,002', '20,087', '20,132', '20,139', '20,146', '20,233', '20,303', '20,289'], '세종특별자치시  도담동(3611052000)': ['17,026', '17,275', '17,280', '17,257', '17,369', '17,359', '17,452', '17,737', '18,092', '18,188', '18,229', '18,243'], '세종특별자치시  해밀동(3611052500)': ['4,367', '4,375', '4,377', '4,392', '4,422', '4,416', '4,424', '4,425', '4,428', '4,437', '4,448', '4,457'], '세종특별자치시  아름동(3611053000)': ['11,892', '11,885', '11,771', '11,689', '11,730', '11,753', '11,751', '11,762', '11,762', '11,805', '11,804', '11,812'], '세종특별자치시  종촌동(3611054000)': ['15,140', '15,064', '14,971', '14,924', '14,872', '14,882', '14,850', '14,826', '14,750', '14,755', '14,768', '14,747'], '세종특별자치시  고운동(3611055000)': ['17,524', '17,541', '17,440', '17,409', '17,470', '17,422', '17,470', '17,589', '17,676', '17,716', '17,767', '17,784'], '세종특별자치시  소담동(3611055500)': ['10,474', '10,457', '10,358', '10,294', '10,472', '10,716', '10,901', '11,033', '11,065', '11,081', '11,086', '11,048'], '세종특별자치시  반곡동(3611055600)': ['6,947', '7,083', '8,924', '10,495', '11,082', '11,275', '11,563', '11,868', '11,984', '12,081', '12,261', '12,654'], '세종특별자치시  보람동(3611056000)': ['9,837', '9,784', '9,720', '9,631', '9,607', '9,600', '9,624', '9,609', '9,576', '9,582', '9,606', '9,601'], '세종특별자치시  대평동(3611057000)': ['5,714', '5,700', '5,673', '5,690', '5,665', '5,682', '5,672', '5,669', '5,677', '5,685', '5,669', '5,670'], '세종특별자치시  다정동(3611058000)': ['14,772', '14,766', '14,733', '14,647', '14,645', '14,672', '14,656', '14,629', '14,635', '14,693', '14,759', '14,764']}\n"
     ]
    }
   ],
   "source": [
    "import csv\n",
    "f = open('C:\\\\Users\\\\KGA_09\\\\Downloads\\\\d1.csv','r', encoding = 'cp949')\n",
    "result = csv.reader(f)\n",
    "next(result)\n",
    "next(result)\n",
    "data = {}\n",
    "for row in result:\n",
    "    data[row[0]] = []\n",
    "    for i in range(5, len(row), 6):\n",
    "        data[row[0]].append(row[i])\n",
    "print(data)"
   ]
  },
  {
   "cell_type": "code",
   "execution_count": 11,
   "metadata": {},
   "outputs": [
    {
     "name": "stdout",
     "output_type": "stream",
     "text": [
      "                            행정구역 2019년_총인구수 2019년_세대수  2019년_세대당 인구  \\\n",
      "0   세종특별자치시 세종특별자치시 (3611000000)    340,575   135,408          2.52   \n",
      "1      세종특별자치시  조치원읍(3611025000)     43,266    19,472          2.22   \n",
      "2       세종특별자치시  연기면(3611031000)      2,577     1,445          1.78   \n",
      "3       세종특별자치시  연동면(3611032000)      3,187     1,680          1.90   \n",
      "4       세종특별자치시  부강면(3611033000)      6,308     3,249          1.94   \n",
      "5       세종특별자치시  금남면(3611034000)      8,761     4,509          1.94   \n",
      "6       세종특별자치시  장군면(3611035000)      6,238     3,453          1.81   \n",
      "7       세종특별자치시  연서면(3611036000)      7,518     3,834          1.96   \n",
      "8       세종특별자치시  전의면(3611037000)      5,863     3,045          1.93   \n",
      "9       세종특별자치시  전동면(3611038000)      3,758     2,130          1.76   \n",
      "10      세종특별자치시  소정면(3611039000)      2,545     1,231          2.07   \n",
      "11      세종특별자치시  한솔동(3611051000)     19,287     6,333          3.05   \n",
      "12      세종특별자치시  새롬동(3611051500)     53,482    20,495          2.61   \n",
      "13      세종특별자치시  도담동(3611052000)     31,919    13,136          2.43   \n",
      "14      세종특별자치시  해밀동(3611052500)          0         0          0.00   \n",
      "15      세종특별자치시  아름동(3611053000)     23,589     7,560          3.12   \n",
      "16      세종특별자치시  종촌동(3611054000)     29,778    10,691          2.79   \n",
      "17      세종특별자치시  고운동(3611055000)     33,371    11,436          2.92   \n",
      "18      세종특별자치시  소담동(3611055500)     29,489    10,973          2.69   \n",
      "19      세종특별자치시  반곡동(3611055600)          0         0          0.00   \n",
      "20      세종특별자치시  보람동(3611056000)     19,055     6,810          2.80   \n",
      "21      세종특별자치시  대평동(3611057000)     10,584     3,926          2.70   \n",
      "22      세종특별자치시  다정동(3611058000)          0         0          0.00   \n",
      "\n",
      "   2019년_남자 인구수 2019년_여자 인구수  2019년_남여 비율 2020년_총인구수 2020년_세대수  2020년_세대당 인구  \\\n",
      "0       169,845      170,730         0.99    355,831   144,275          2.47   \n",
      "1        22,335       20,931         1.07     43,100    20,307          2.12   \n",
      "2         1,436        1,141         1.26      2,729     1,597          1.71   \n",
      "3         1,628        1,559         1.04      3,160     1,729          1.83   \n",
      "4         3,455        2,853         1.21      6,245     3,333          1.87   \n",
      "5         4,618        4,143         1.11      8,865     4,763          1.86   \n",
      "6         3,499        2,739         1.28      6,703     3,912          1.71   \n",
      "7         4,037        3,481         1.16      7,481     3,951          1.89   \n",
      "8         3,082        2,781         1.11      5,686     3,054          1.86   \n",
      "9         2,047        1,711         1.20      3,578     2,090          1.71   \n",
      "10        1,337        1,208         1.11      2,442     1,232          1.98   \n",
      "11        9,501        9,786         0.97     19,233     6,458          2.98   \n",
      "12       25,949       27,533         0.94     29,430    12,014          2.45   \n",
      "13       15,447       16,472         0.94     39,495    16,245          2.43   \n",
      "14            0            0         0.00        NaN       NaN           NaN   \n",
      "15       11,634       11,955         0.97     23,562     7,701          3.06   \n",
      "16       14,445       15,333         0.94     29,568    10,779          2.74   \n",
      "17       16,253       17,118         0.95     34,431    11,896          2.89   \n",
      "18       14,515       14,974         0.97     32,423    12,028          2.70   \n",
      "19            0            0         0.00        NaN       NaN           NaN   \n",
      "20        9,371        9,684         0.97     19,397     6,956          2.79   \n",
      "21        5,256        5,328         0.99     10,973     4,154          2.64   \n",
      "22            0            0         0.00     27,330    10,076          2.71   \n",
      "\n",
      "   2020년_남자 인구수 2020년_여자 인구수  2020년_남여 비율 2021년_총인구수 2021년_세대수  2021년_세대당 인구  \\\n",
      "0       177,568      178,263         1.00    371,895   153,649          2.42   \n",
      "1        22,294       20,806         1.07     43,262    20,972          2.06   \n",
      "2         1,531        1,198         1.28      2,812     1,695          1.66   \n",
      "3         1,647        1,513         1.09      3,112     1,749          1.78   \n",
      "4         3,433        2,812         1.22      6,152     3,382          1.82   \n",
      "5         4,655        4,210         1.11      8,975     4,946          1.81   \n",
      "6         3,837        2,866         1.34      6,994     4,252          1.64   \n",
      "7         4,074        3,407         1.20      7,380     3,971          1.86   \n",
      "8         3,024        2,662         1.14      5,523     3,033          1.82   \n",
      "9         1,949        1,629         1.20      3,368     1,980          1.70   \n",
      "10        1,299        1,143         1.14      2,270     1,165          1.95   \n",
      "11        9,447        9,786         0.97     18,615     6,411          2.90   \n",
      "12       14,270       15,160         0.94     38,186    15,296          2.50   \n",
      "13       19,132       20,363         0.94     33,331    14,229          2.34   \n",
      "14          NaN          NaN          NaN      8,569     3,096          2.77   \n",
      "15       11,677       11,885         0.98     23,349     7,785          3.00   \n",
      "16       14,339       15,229         0.94     29,139    10,861          2.68   \n",
      "17       16,823       17,608         0.96     34,171    11,896          2.87   \n",
      "18       15,971       16,452         0.97     20,406     7,361          2.77   \n",
      "19          NaN          NaN          NaN     17,586     7,598          2.31   \n",
      "20        9,514        9,883         0.96     19,022     6,905          2.75   \n",
      "21        5,455        5,518         0.99     11,315     4,375          2.59   \n",
      "22       13,197       14,133         0.93     28,358    10,691          2.65   \n",
      "\n",
      "   2021년_남자 인구수 2021년_여자 인구수  2021년_남여 비율  \n",
      "0       185,678      186,217         1.00  \n",
      "1        22,520       20,742         1.09  \n",
      "2         1,599        1,213         1.32  \n",
      "3         1,636        1,476         1.11  \n",
      "4         3,393        2,759         1.23  \n",
      "5         4,770        4,205         1.13  \n",
      "6         4,050        2,944         1.38  \n",
      "7         4,042        3,338         1.21  \n",
      "8         2,952        2,571         1.15  \n",
      "9         1,813        1,555         1.17  \n",
      "10        1,204        1,066         1.13  \n",
      "11        9,151        9,464         0.97  \n",
      "12       18,549       19,637         0.94  \n",
      "13       16,051       17,280         0.93  \n",
      "14        4,192        4,377         0.96  \n",
      "15       11,578       11,771         0.98  \n",
      "16       14,168       14,971         0.95  \n",
      "17       16,731       17,440         0.96  \n",
      "18       10,048       10,358         0.97  \n",
      "19        8,662        8,924         0.97  \n",
      "20        9,302        9,720         0.96  \n",
      "21        5,642        5,673         0.99  \n",
      "22       13,625       14,733         0.92  \n"
     ]
    }
   ],
   "source": [
    "#csv로 연도별 행정구역별 거주자 인구\n",
    "#pandas로 불러오기\n",
    "import pandas as pd\n",
    "result = pd.read_csv('C:\\\\Users\\\\KGA_09\\\\Downloads\\\\d3.csv', encoding = 'cp949')\n",
    "print(result)"
   ]
  },
  {
   "cell_type": "code",
   "execution_count": 12,
   "metadata": {},
   "outputs": [
    {
     "name": "stdout",
     "output_type": "stream",
     "text": [
      "<class 'pandas.core.frame.DataFrame'>\n"
     ]
    }
   ],
   "source": [
    "print(type(result))"
   ]
  },
  {
   "cell_type": "code",
   "execution_count": 18,
   "metadata": {},
   "outputs": [
    {
     "name": "stdout",
     "output_type": "stream",
     "text": [
      "Index(['행정구역', '2019년_총인구수', '2019년_세대수', '2019년_세대당 인구', '2019년_남자 인구수',\n",
      "       '2019년_여자 인구수', '2019년_남여 비율', '2020년_총인구수', '2020년_세대수',\n",
      "       '2020년_세대당 인구', '2020년_남자 인구수', '2020년_여자 인구수', '2020년_남여 비율',\n",
      "       '2021년_총인구수', '2021년_세대수', '2021년_세대당 인구', '2021년_남자 인구수',\n",
      "       '2021년_여자 인구수', '2021년_남여 비율'],\n",
      "      dtype='object')\n"
     ]
    }
   ],
   "source": [
    "print(result.columns)"
   ]
  },
  {
   "cell_type": "code",
   "execution_count": 20,
   "metadata": {},
   "outputs": [
    {
     "name": "stdout",
     "output_type": "stream",
     "text": [
      "세종특별자치시  조치원읍(3611025000)\n"
     ]
    }
   ],
   "source": [
    "print(result.iloc[1,0])"
   ]
  },
  {
   "cell_type": "code",
   "execution_count": 21,
   "metadata": {},
   "outputs": [
    {
     "name": "stdout",
     "output_type": "stream",
     "text": [
      "세종특별자치시  연기면(3611031000)\n"
     ]
    }
   ],
   "source": [
    "print(result.iloc[2,0])"
   ]
  },
  {
   "cell_type": "code",
   "execution_count": 22,
   "metadata": {},
   "outputs": [
    {
     "data": {
      "text/plain": [
       "True"
      ]
     },
     "execution_count": 22,
     "metadata": {},
     "output_type": "execute_result"
    }
   ],
   "source": [
    "#연도별 행정구역별 거주자 인구 가져오기\n",
    "#pandas 모듈로 불러온 데이터는 DataFrame 자료형으로\n",
    "#DataFrame 내 함수를 활용하여 쉽게 가져올 수 있다.\n",
    "#columns 함수 : 칼럼의 목록을 가져옴\n",
    "#iloc 함수 : 행 번호로 값을 선택할 수 있음\n",
    "\n",
    "s = \"2020년_여자 인구수\"\n",
    "s.endswith('인구수')"
   ]
  },
  {
   "cell_type": "code",
   "execution_count": 24,
   "metadata": {},
   "outputs": [
    {
     "name": "stdout",
     "output_type": "stream",
     "text": [
      "2019년_총인구수    43,266\n",
      "2020년_총인구수    43,100\n",
      "2021년_총인구수    43,262\n",
      "Name: 1, dtype: object\n"
     ]
    }
   ],
   "source": [
    "print(result.iloc[1,0])\n",
    "print(result.iloc[1,range(1, len(result.columns),6)])"
   ]
  },
  {
   "cell_type": "code",
   "execution_count": 29,
   "metadata": {},
   "outputs": [
    {
     "name": "stdout",
     "output_type": "stream",
     "text": [
      "{'세종특별자치시  조치원읍(3611025000)': 2019년_총인구수    43,266\n",
      "2020년_총인구수    43,100\n",
      "2021년_총인구수    43,262\n",
      "Name: 1, dtype: object, '세종특별자치시  연기면(3611031000)': 2019년_총인구수    2,577\n",
      "2020년_총인구수    2,729\n",
      "2021년_총인구수    2,812\n",
      "Name: 2, dtype: object, '세종특별자치시  연동면(3611032000)': 2019년_총인구수    3,187\n",
      "2020년_총인구수    3,160\n",
      "2021년_총인구수    3,112\n",
      "Name: 3, dtype: object, '세종특별자치시  부강면(3611033000)': 2019년_총인구수    6,308\n",
      "2020년_총인구수    6,245\n",
      "2021년_총인구수    6,152\n",
      "Name: 4, dtype: object, '세종특별자치시  금남면(3611034000)': 2019년_총인구수    8,761\n",
      "2020년_총인구수    8,865\n",
      "2021년_총인구수    8,975\n",
      "Name: 5, dtype: object, '세종특별자치시  장군면(3611035000)': 2019년_총인구수    6,238\n",
      "2020년_총인구수    6,703\n",
      "2021년_총인구수    6,994\n",
      "Name: 6, dtype: object, '세종특별자치시  연서면(3611036000)': 2019년_총인구수    7,518\n",
      "2020년_총인구수    7,481\n",
      "2021년_총인구수    7,380\n",
      "Name: 7, dtype: object, '세종특별자치시  전의면(3611037000)': 2019년_총인구수    5,863\n",
      "2020년_총인구수    5,686\n",
      "2021년_총인구수    5,523\n",
      "Name: 8, dtype: object, '세종특별자치시  전동면(3611038000)': 2019년_총인구수    3,758\n",
      "2020년_총인구수    3,578\n",
      "2021년_총인구수    3,368\n",
      "Name: 9, dtype: object, '세종특별자치시  소정면(3611039000)': 2019년_총인구수    2,545\n",
      "2020년_총인구수    2,442\n",
      "2021년_총인구수    2,270\n",
      "Name: 10, dtype: object, '세종특별자치시  한솔동(3611051000)': 2019년_총인구수    19,287\n",
      "2020년_총인구수    19,233\n",
      "2021년_총인구수    18,615\n",
      "Name: 11, dtype: object, '세종특별자치시  새롬동(3611051500)': 2019년_총인구수    53,482\n",
      "2020년_총인구수    29,430\n",
      "2021년_총인구수    38,186\n",
      "Name: 12, dtype: object, '세종특별자치시  도담동(3611052000)': 2019년_총인구수    31,919\n",
      "2020년_총인구수    39,495\n",
      "2021년_총인구수    33,331\n",
      "Name: 13, dtype: object, '세종특별자치시  해밀동(3611052500)': 2019년_총인구수        0\n",
      "2020년_총인구수      NaN\n",
      "2021년_총인구수    8,569\n",
      "Name: 14, dtype: object, '세종특별자치시  아름동(3611053000)': 2019년_총인구수    23,589\n",
      "2020년_총인구수    23,562\n",
      "2021년_총인구수    23,349\n",
      "Name: 15, dtype: object, '세종특별자치시  종촌동(3611054000)': 2019년_총인구수    29,778\n",
      "2020년_총인구수    29,568\n",
      "2021년_총인구수    29,139\n",
      "Name: 16, dtype: object, '세종특별자치시  고운동(3611055000)': 2019년_총인구수    33,371\n",
      "2020년_총인구수    34,431\n",
      "2021년_총인구수    34,171\n",
      "Name: 17, dtype: object, '세종특별자치시  소담동(3611055500)': 2019년_총인구수    29,489\n",
      "2020년_총인구수    32,423\n",
      "2021년_총인구수    20,406\n",
      "Name: 18, dtype: object, '세종특별자치시  반곡동(3611055600)': 2019년_총인구수         0\n",
      "2020년_총인구수       NaN\n",
      "2021년_총인구수    17,586\n",
      "Name: 19, dtype: object, '세종특별자치시  보람동(3611056000)': 2019년_총인구수    19,055\n",
      "2020년_총인구수    19,397\n",
      "2021년_총인구수    19,022\n",
      "Name: 20, dtype: object, '세종특별자치시  대평동(3611057000)': 2019년_총인구수    10,584\n",
      "2020년_총인구수    10,973\n",
      "2021년_총인구수    11,315\n",
      "Name: 21, dtype: object, '세종특별자치시  다정동(3611058000)': 2019년_총인구수         0\n",
      "2020년_총인구수    27,330\n",
      "2021년_총인구수    28,358\n",
      "Name: 22, dtype: object}\n"
     ]
    }
   ],
   "source": [
    "result = pd.read_csv('C:\\\\Users\\\\KGA_09\\\\Downloads\\\\d3.csv', encoding = 'cp949')\n",
    "data = {}\n",
    "for i in range(1,len(result)):\n",
    "    data[result.iloc[i,0]] = result.iloc[i,range(1, len(result.columns),6)]\n",
    "print(data)\n"
   ]
  },
  {
   "cell_type": "code",
   "execution_count": 31,
   "metadata": {},
   "outputs": [
    {
     "name": "stdout",
     "output_type": "stream",
     "text": [
      "세종특별자치시  조치원읍(3611025000)\n",
      "세종특별자치시  연기면(3611031000)\n",
      "세종특별자치시  연동면(3611032000)\n",
      "세종특별자치시  부강면(3611033000)\n",
      "세종특별자치시  금남면(3611034000)\n",
      "세종특별자치시  장군면(3611035000)\n",
      "세종특별자치시  연서면(3611036000)\n",
      "세종특별자치시  전의면(3611037000)\n",
      "세종특별자치시  전동면(3611038000)\n",
      "세종특별자치시  소정면(3611039000)\n",
      "세종특별자치시  한솔동(3611051000)\n",
      "세종특별자치시  새롬동(3611051500)\n",
      "세종특별자치시  도담동(3611052000)\n",
      "세종특별자치시  해밀동(3611052500)\n",
      "세종특별자치시  아름동(3611053000)\n",
      "세종특별자치시  종촌동(3611054000)\n",
      "세종특별자치시  고운동(3611055000)\n",
      "세종특별자치시  소담동(3611055500)\n",
      "세종특별자치시  반곡동(3611055600)\n",
      "세종특별자치시  보람동(3611056000)\n",
      "세종특별자치시  대평동(3611057000)\n",
      "세종특별자치시  다정동(3611058000)\n"
     ]
    }
   ],
   "source": [
    "result = pd.read_csv('C:\\\\Users\\\\KGA_09\\\\Downloads\\\\d5.csv', encoding = 'cp949')\n",
    "for i in range(1,len(result)):\n",
    "    print(result.iloc[i,0])"
   ]
  },
  {
   "cell_type": "code",
   "execution_count": 37,
   "metadata": {},
   "outputs": [
    {
     "name": "stdout",
     "output_type": "stream",
     "text": [
      "세종특별자치시  조치원읍(3611025000)\n",
      "2019년_거주자_30~39세 5,506\n",
      "2020년_거주자_30~39세 5,406\n",
      "2021년_거주자_30~39세 5,367\n",
      "\n",
      "세종특별자치시  연기면(3611031000)\n",
      "2019년_거주자_30~39세 288\n",
      "2020년_거주자_30~39세 334\n",
      "2021년_거주자_30~39세 375\n",
      "\n",
      "세종특별자치시  연동면(3611032000)\n",
      "2019년_거주자_30~39세 274\n",
      "2020년_거주자_30~39세 275\n",
      "2021년_거주자_30~39세 295\n",
      "\n",
      "세종특별자치시  부강면(3611033000)\n",
      "2019년_거주자_30~39세 683\n",
      "2020년_거주자_30~39세 722\n",
      "2021년_거주자_30~39세 725\n",
      "\n",
      "세종특별자치시  금남면(3611034000)\n",
      "2019년_거주자_30~39세 833\n",
      "2020년_거주자_30~39세 881\n",
      "2021년_거주자_30~39세 930\n",
      "\n",
      "세종특별자치시  장군면(3611035000)\n",
      "2019년_거주자_30~39세 754\n",
      "2020년_거주자_30~39세 841\n",
      "2021년_거주자_30~39세 945\n",
      "\n",
      "세종특별자치시  연서면(3611036000)\n",
      "2019년_거주자_30~39세 742\n",
      "2020년_거주자_30~39세 721\n",
      "2021년_거주자_30~39세 708\n",
      "\n",
      "세종특별자치시  전의면(3611037000)\n",
      "2019년_거주자_30~39세 519\n",
      "2020년_거주자_30~39세 514\n",
      "2021년_거주자_30~39세 463\n",
      "\n",
      "세종특별자치시  전동면(3611038000)\n",
      "2019년_거주자_30~39세 275\n",
      "2020년_거주자_30~39세 256\n",
      "2021년_거주자_30~39세 224\n",
      "\n",
      "세종특별자치시  소정면(3611039000)\n",
      "2019년_거주자_30~39세 202\n",
      "2020년_거주자_30~39세 183\n",
      "2021년_거주자_30~39세 181\n",
      "\n",
      "세종특별자치시  한솔동(3611051000)\n",
      "2019년_거주자_30~39세 2,744\n",
      "2020년_거주자_30~39세 2,573\n",
      "2021년_거주자_30~39세 2,337\n",
      "\n",
      "세종특별자치시  새롬동(3611051500)\n",
      "2019년_거주자_30~39세 12,260\n",
      "2020년_거주자_30~39세 6,009\n",
      "2021년_거주자_30~39세 7,137\n",
      "\n",
      "세종특별자치시  도담동(3611052000)\n",
      "2019년_거주자_30~39세 5,847\n",
      "2020년_거주자_30~39세 7,407\n",
      "2021년_거주자_30~39세 5,569\n",
      "\n",
      "세종특별자치시  해밀동(3611052500)\n",
      "2019년_거주자_30~39세 0\n",
      "2020년_거주자_30~39세 0\n",
      "2021년_거주자_30~39세 1,830\n",
      "\n",
      "세종특별자치시  아름동(3611053000)\n",
      "2019년_거주자_30~39세 3,717\n",
      "2020년_거주자_30~39세 3,439\n",
      "2021년_거주자_30~39세 3,198\n",
      "\n",
      "세종특별자치시  종촌동(3611054000)\n",
      "2019년_거주자_30~39세 5,950\n",
      "2020년_거주자_30~39세 5,444\n",
      "2021년_거주자_30~39세 5,079\n",
      "\n",
      "세종특별자치시  고운동(3611055000)\n",
      "2019년_거주자_30~39세 6,978\n",
      "2020년_거주자_30~39세 6,645\n",
      "2021년_거주자_30~39세 5,940\n",
      "\n",
      "세종특별자치시  소담동(3611055500)\n",
      "2019년_거주자_30~39세 7,385\n",
      "2020년_거주자_30~39세 7,641\n",
      "2021년_거주자_30~39세 4,228\n",
      "\n",
      "세종특별자치시  반곡동(3611055600)\n",
      "2019년_거주자_30~39세 0\n",
      "2020년_거주자_30~39세 0\n",
      "2021년_거주자_30~39세 4,810\n",
      "\n",
      "세종특별자치시  보람동(3611056000)\n",
      "2019년_거주자_30~39세 3,944\n",
      "2020년_거주자_30~39세 3,723\n",
      "2021년_거주자_30~39세 3,320\n",
      "\n",
      "세종특별자치시  대평동(3611057000)\n",
      "2019년_거주자_30~39세 2,395\n",
      "2020년_거주자_30~39세 2,277\n",
      "2021년_거주자_30~39세 2,160\n",
      "\n",
      "세종특별자치시  다정동(3611058000)\n",
      "2019년_거주자_30~39세 0\n",
      "2020년_거주자_30~39세 6,051\n",
      "2021년_거주자_30~39세 5,783\n",
      "\n"
     ]
    }
   ],
   "source": [
    "result = pd.read_csv('C:\\\\Users\\\\KGA_09\\\\Downloads\\\\d5.csv', encoding = 'cp949')\n",
    "for i in range(1,len(result)):\n",
    "    print(result.iloc[i,0])\n",
    "    for j in range(len(result.columns)):\n",
    "        if result.columns[j].endswith('년_거주자_30~39세'):\n",
    "            print(result.columns[j],result.iloc[i,j])\n",
    "    print()"
   ]
  },
  {
   "cell_type": "code",
   "execution_count": 38,
   "metadata": {},
   "outputs": [
    {
     "name": "stdout",
     "output_type": "stream",
     "text": [
      "1      5,506\n",
      "2        288\n",
      "3        274\n",
      "4        683\n",
      "5        833\n",
      "6        754\n",
      "7        742\n",
      "8        519\n",
      "9        275\n",
      "10       202\n",
      "11     2,744\n",
      "12    12,260\n",
      "13     5,847\n",
      "14         0\n",
      "15     3,717\n",
      "16     5,950\n",
      "17     6,978\n",
      "18     7,385\n",
      "19         0\n",
      "20     3,944\n",
      "21     2,395\n",
      "22         0\n",
      "Name: 2019년_거주자_30~39세, dtype: object\n"
     ]
    }
   ],
   "source": [
    "print(result.iloc[1:,6])"
   ]
  },
  {
   "cell_type": "code",
   "execution_count": 39,
   "metadata": {},
   "outputs": [
    {
     "data": {
      "image/png": "[encoded data removed]",
      "text/plain": [
       "<Figure size 432x288 with 1 Axes>"
      ]
     },
     "metadata": {
      "needs_background": "light"
     },
     "output_type": "display_data"
    }
   ],
   "source": [
    "import matplotlib.pyplot as plt\n",
    "\n",
    "x=[1,2,3,4]\n",
    "y=[2,3,4,5]\n",
    "plt.plot(x,y)\n",
    "plt.show()"
   ]
  },
  {
   "cell_type": "code",
   "execution_count": 40,
   "metadata": {},
   "outputs": [
    {
     "data": {
      "image/png": "[encoded data removed]",
      "text/plain": [
       "<Figure size 432x288 with 1 Axes>"
      ]
     },
     "metadata": {
      "needs_background": "light"
     },
     "output_type": "display_data"
    }
   ],
   "source": [
    "x=[1,2,3,4]\n",
    "y=[2,3,4,5]\n",
    "plt.bar(x,y)\n",
    "plt.show()"
   ]
  },
  {
   "cell_type": "code",
   "execution_count": 42,
   "metadata": {},
   "outputs": [
    {
     "data": {
      "text/plain": [
       "[<matplotlib.lines.Line2D at 0x1ab113624c0>]"
      ]
     },
     "execution_count": 42,
     "metadata": {},
     "output_type": "execute_result"
    },
    {
     "data": {
      "image/png": "[encoded data removed]",
      "text/plain": [
       "<Figure size 432x288 with 1 Axes>"
      ]
     },
     "metadata": {
      "needs_background": "light"
     },
     "output_type": "display_data"
    }
   ],
   "source": [
    "import numpy as np\n",
    "\n",
    "figure = plt.figure()\n",
    "axes = figure.add_subplot(111)\n",
    "\n",
    "x=[1,2,3,4]\n",
    "y=[2,3,4,5]\n",
    "\n",
    "x2=np.array([1,2,3,4])\n",
    "y2=np.array([4,1,3,6])\n",
    "\n",
    "axes.plot(x,y, color='red', linestyle='dashed', marker='^')\n",
    "axes.plot(x2,y2, color='k', linestyle='dashed', marker='^')"
   ]
  },
  {
   "cell_type": "code",
   "execution_count": 46,
   "metadata": {},
   "outputs": [
    {
     "data": {
      "image/png": "[encoded data removed]",
      "text/plain": [
       "<Figure size 432x288 with 2 Axes>"
      ]
     },
     "metadata": {
      "needs_background": "light"
     },
     "output_type": "display_data"
    }
   ],
   "source": [
    "from cProfile import label\n",
    "import matplotlib.pyplot as plt\n",
    "figure = plt.figure()\n",
    "axes = figure.add_subplot(111)\n",
    "axes2 = axes.twinx() #x축은 공유하고 y축은 따로 사용\n",
    "\n",
    "x=[1,2,3,4]\n",
    "y=[2,3,4,5]\n",
    "x2=[1,2,3,4]\n",
    "y2=[4,6,1,9]\n",
    "\n",
    "axes.bar(x,y,color='green' , label='bar')\n",
    "axes2.plot(x2,y2,color='r' , label='plot')\n",
    "\n",
    "axes.legend()\n",
    "axes2.legend(loc=1)\n",
    "plt.show()"
   ]
  },
  {
   "cell_type": "code",
   "execution_count": 49,
   "metadata": {},
   "outputs": [
    {
     "data": {
      "image/png": "[encoded data removed]",
      "text/plain": [
       "<Figure size 432x288 with 1 Axes>"
      ]
     },
     "metadata": {},
     "output_type": "display_data"
    }
   ],
   "source": [
    "import matplotlib.pyplot as plt\n",
    "figure = plt.figure()\n",
    "axes = figure.add_subplot(111)\n",
    "\n",
    "label = ['a', 'b', 'c', 'd']\n",
    "data = [1,1,2,3]\n",
    "\n",
    "axes.pie(data,labels=label)\n",
    "plt.show()"
   ]
  },
  {
   "cell_type": "code",
   "execution_count": null,
   "metadata": {},
   "outputs": [],
   "source": []
  }
 ],
 "metadata": {
  "kernelspec": {
   "display_name": "Python 3.9.12 ('base')",
   "language": "python",
   "name": "python3"
  },
  "language_info": {
   "codemirror_mode": {
    "name": "ipython",
    "version": 3
   },
   "file_extension": ".py",
   "mimetype": "text/x-python",
   "name": "python",
   "nbconvert_exporter": "python",
   "pygments_lexer": "ipython3",
   "version": "3.9.12"
  },
  "orig_nbformat": 4,
  "vscode": {
   "interpreter": {
    "hash": "ad2bdc8ecc057115af97d19610ffacc2b4e99fae6737bb82f5d7fb13d2f2c186"
   }
  }
 },
 "nbformat": 4,
 "nbformat_minor": 2
}
