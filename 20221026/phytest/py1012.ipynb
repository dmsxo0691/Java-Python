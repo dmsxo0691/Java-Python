{
 "cells": [
  {
   "cell_type": "code",
   "execution_count": 2,
   "id": "ce217649",
   "metadata": {},
   "outputs": [
    {
     "name": "stdout",
     "output_type": "stream",
     "text": [
      "합격입니다.\n",
      "\n"
     ]
    }
   ],
   "source": [
    "grade = 82\n",
    "if(grade >=80):\n",
    "    print('합격입니다.\\n')"
   ]
  },
  {
   "cell_type": "code",
   "execution_count": 3,
   "id": "84dc81b6",
   "metadata": {},
   "outputs": [
    {
     "name": "stdout",
     "output_type": "stream",
     "text": [
      "당신은 성인입니다.\n",
      "\n"
     ]
    }
   ],
   "source": [
    "age = 20\n",
    "if (age >= 19):\n",
    "    print('당신은 성인입니다.\\n')\n",
    "else:\n",
    "    print('당신은 미성년자입니다.\\n')"
   ]
  },
  {
   "cell_type": "code",
   "execution_count": 4,
   "id": "bf9b2176",
   "metadata": {},
   "outputs": [
    {
     "name": "stdout",
     "output_type": "stream",
     "text": [
      "당신은 미성년자입니다.\n",
      "1 살이 부족함\n"
     ]
    }
   ],
   "source": [
    "age = 18\n",
    "if(age>=19):\n",
    "    print('당신은 성인입니다.')\n",
    "    print(age-19, '살 넘음')\n",
    "else:\n",
    "    print('당신은 미성년자입니다.')\n",
    "    print(19-age, '살이 부족함')"
   ]
  },
  {
   "cell_type": "code",
   "execution_count": 5,
   "id": "72432862",
   "metadata": {},
   "outputs": [
    {
     "name": "stdout",
     "output_type": "stream",
     "text": [
      "음수\n"
     ]
    }
   ],
   "source": [
    "num = -1\n",
    "if(num>0):\n",
    "    print('양수')\n",
    "elif(num<0):\n",
    "    print('음수')\n",
    "else:\n",
    "    print('0')"
   ]
  },
  {
   "cell_type": "code",
   "execution_count": 7,
   "id": "e550c66d",
   "metadata": {},
   "outputs": [
    {
     "name": "stdout",
     "output_type": "stream",
     "text": [
      "점수 : 96\n",
      "A\n"
     ]
    }
   ],
   "source": [
    "avg = int(input('점수 : '))\n",
    "if(avg >=90):\n",
    "    print('A')\n",
    "elif(avg >= 80):\n",
    "    print('B')\n",
    "elif(avg >= 70):\n",
    "    print('C')\n",
    "elif(avg >= 60):\n",
    "    print('D')\n",
    "elif(avg >= 50):\n",
    "    print('E')"
   ]
  },
  {
   "cell_type": "code",
   "execution_count": 8,
   "id": "3e95da53",
   "metadata": {},
   "outputs": [
    {
     "name": "stdout",
     "output_type": "stream",
     "text": [
      "안녕!\n",
      "안녕!\n",
      "안녕!\n"
     ]
    }
   ],
   "source": [
    "for i in range(3):\n",
    "    print('안녕!') # for 변수 in (범위 또는 배열)"
   ]
  },
  {
   "cell_type": "code",
   "execution_count": 9,
   "id": "67034de9",
   "metadata": {},
   "outputs": [
    {
     "name": "stdout",
     "output_type": "stream",
     "text": [
      "안녕\n",
      "안녕\n",
      "안녕\n"
     ]
    }
   ],
   "source": [
    "for _ in range(3):\n",
    "    print('안녕')"
   ]
  },
  {
   "cell_type": "code",
   "execution_count": 10,
   "id": "ccacdcb5",
   "metadata": {},
   "outputs": [
    {
     "name": "stdout",
     "output_type": "stream",
     "text": [
      "0\n",
      "1\n",
      "2\n"
     ]
    }
   ],
   "source": [
    "for i in range(3):\n",
    "    print(i) # 0부터 3보다 적을 때까지 출력"
   ]
  },
  {
   "cell_type": "code",
   "execution_count": 11,
   "id": "ebeb955a",
   "metadata": {},
   "outputs": [
    {
     "name": "stdout",
     "output_type": "stream",
     "text": [
      "2\n",
      "3\n",
      "4\n"
     ]
    }
   ],
   "source": [
    "for i in range(2,5):\n",
    "    print(i)"
   ]
  },
  {
   "cell_type": "code",
   "execution_count": 12,
   "id": "59d1939d",
   "metadata": {},
   "outputs": [
    {
     "name": "stdout",
     "output_type": "stream",
     "text": [
      "0\n",
      "2\n",
      "4\n",
      "6\n"
     ]
    }
   ],
   "source": [
    "for i in range(0, 7, 2):\n",
    "    print(i) # range(시작값, 마지막값+1, 증가값)"
   ]
  },
  {
   "cell_type": "code",
   "execution_count": 2,
   "id": "de4cfe56",
   "metadata": {},
   "outputs": [],
   "source": [
    "for i in range(6, -1, 2):\n",
    "    print(i) # range(시작값, 마지막값-1, 감소값)"
   ]
  },
  {
   "cell_type": "code",
   "execution_count": 1,
   "id": "b7e9cd55",
   "metadata": {},
   "outputs": [
    {
     "name": "stdout",
     "output_type": "stream",
     "text": [
      "2\n",
      "3\n",
      "4\n"
     ]
    }
   ],
   "source": [
    "for i in range(2,5):\n",
    "    print(i)"
   ]
  },
  {
   "cell_type": "code",
   "execution_count": 3,
   "id": "d86bc71d",
   "metadata": {},
   "outputs": [
    {
     "name": "stdout",
     "output_type": "stream",
     "text": [
      "2\n",
      "3\n",
      "4\n"
     ]
    }
   ],
   "source": [
    "for i in range(2,5):\n",
    "    print(i)"
   ]
  },
  {
   "cell_type": "code",
   "execution_count": 4,
   "id": "8123bab3",
   "metadata": {},
   "outputs": [
    {
     "name": "stdout",
     "output_type": "stream",
     "text": [
      "6\n",
      "4\n",
      "2\n",
      "0\n"
     ]
    }
   ],
   "source": [
    "for i in range(6, -1, -2):\n",
    "    print(i)"
   ]
  },
  {
   "cell_type": "code",
   "execution_count": null,
   "id": "71f0c784",
   "metadata": {},
   "outputs": [],
   "source": []
  }
 ],
 "metadata": {
  "kernelspec": {
   "display_name": "Python 3 (ipykernel)",
   "language": "python",
   "name": "python3"
  },
  "language_info": {
   "codemirror_mode": {
    "name": "ipython",
    "version": 3
   },
   "file_extension": ".py",
   "mimetype": "text/x-python",
   "name": "python",
   "nbconvert_exporter": "python",
   "pygments_lexer": "ipython3",
   "version": "3.9.12"
  }
 },
 "nbformat": 4,
 "nbformat_minor": 5
}
