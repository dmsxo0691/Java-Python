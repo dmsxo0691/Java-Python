{
 "cells": [
  {
   "cell_type": "code",
   "execution_count": 1,
   "id": "eb3bba0c",
   "metadata": {},
   "outputs": [
    {
     "name": "stdout",
     "output_type": "stream",
     "text": [
      "안녕하세요\n"
     ]
    }
   ],
   "source": [
    "print('안녕하세요')"
   ]
  },
  {
   "cell_type": "code",
   "execution_count": 2,
   "id": "04604736",
   "metadata": {},
   "outputs": [
    {
     "ename": "NameError",
     "evalue": "name 'plint' is not defined",
     "output_type": "error",
     "traceback": [
      "\u001b[1;31m---------------------------------------------------------------------------\u001b[0m",
      "\u001b[1;31mNameError\u001b[0m                                 Traceback (most recent call last)",
      "Input \u001b[1;32mIn [2]\u001b[0m, in \u001b[0;36m<cell line: 1>\u001b[1;34m()\u001b[0m\n\u001b[1;32m----> 1\u001b[0m \u001b[43mplint\u001b[49m(\u001b[38;5;241m3\u001b[39m)\n",
      "\u001b[1;31mNameError\u001b[0m: name 'plint' is not defined"
     ]
    }
   ],
   "source": [
    "plint(3)"
   ]
  },
  {
   "cell_type": "code",
   "execution_count": 3,
   "id": "e45d99f7",
   "metadata": {},
   "outputs": [
    {
     "name": "stdout",
     "output_type": "stream",
     "text": [
      "3.5\n"
     ]
    }
   ],
   "source": [
    "print(3.5)"
   ]
  },
  {
   "cell_type": "code",
   "execution_count": 4,
   "id": "89c66095",
   "metadata": {},
   "outputs": [
    {
     "data": {
      "text/plain": [
       "3.5"
      ]
     },
     "execution_count": 4,
     "metadata": {},
     "output_type": "execute_result"
    }
   ],
   "source": [
    "3.5"
   ]
  },
  {
   "cell_type": "code",
   "execution_count": 5,
   "id": "248cba1b",
   "metadata": {},
   "outputs": [
    {
     "name": "stdout",
     "output_type": "stream",
     "text": [
      "True\n"
     ]
    }
   ],
   "source": [
    "print(True)"
   ]
  },
  {
   "cell_type": "code",
   "execution_count": 6,
   "id": "7b12abf4",
   "metadata": {},
   "outputs": [
    {
     "name": "stdout",
     "output_type": "stream",
     "text": [
      "12.56\n"
     ]
    }
   ],
   "source": [
    "pi = 3.14\n",
    "r = 2\n",
    "print(r*r*pi)"
   ]
  },
  {
   "cell_type": "code",
   "execution_count": 7,
   "id": "65dd7ba0",
   "metadata": {},
   "outputs": [
    {
     "name": "stdout",
     "output_type": "stream",
     "text": [
      "12.566370614359172\n"
     ]
    }
   ],
   "source": [
    "import math\n",
    "r=2\n",
    "print(math.pi*r*r)"
   ]
  },
  {
   "cell_type": "code",
   "execution_count": 8,
   "id": "1936ce12",
   "metadata": {},
   "outputs": [],
   "source": [
    "a = 3\n",
    "b = 3.5\n",
    "c = True"
   ]
  },
  {
   "cell_type": "code",
   "execution_count": 9,
   "id": "65eab1bd",
   "metadata": {},
   "outputs": [
    {
     "name": "stdout",
     "output_type": "stream",
     "text": [
      "3\n"
     ]
    }
   ],
   "source": [
    "print(a)"
   ]
  },
  {
   "cell_type": "code",
   "execution_count": 10,
   "id": "ed5dc5b3",
   "metadata": {},
   "outputs": [
    {
     "name": "stdout",
     "output_type": "stream",
     "text": [
      "3.5\n"
     ]
    }
   ],
   "source": [
    "print(b)"
   ]
  },
  {
   "cell_type": "code",
   "execution_count": 11,
   "id": "42cbfcb4",
   "metadata": {},
   "outputs": [
    {
     "name": "stdout",
     "output_type": "stream",
     "text": [
      "True\n"
     ]
    }
   ],
   "source": [
    "print(c)"
   ]
  },
  {
   "cell_type": "code",
   "execution_count": 12,
   "id": "9d1494a3",
   "metadata": {},
   "outputs": [
    {
     "name": "stdout",
     "output_type": "stream",
     "text": [
      "6.5\n"
     ]
    }
   ],
   "source": [
    "print(a+b)"
   ]
  },
  {
   "cell_type": "code",
   "execution_count": 13,
   "id": "5a9e4464",
   "metadata": {},
   "outputs": [
    {
     "name": "stdout",
     "output_type": "stream",
     "text": [
      "-0.5\n"
     ]
    }
   ],
   "source": [
    "print(a - b)"
   ]
  },
  {
   "cell_type": "code",
   "execution_count": 14,
   "id": "9cc547d2",
   "metadata": {},
   "outputs": [
    {
     "name": "stdout",
     "output_type": "stream",
     "text": [
      "10.5\n"
     ]
    }
   ],
   "source": [
    "print(a*b)"
   ]
  },
  {
   "cell_type": "code",
   "execution_count": 15,
   "id": "a9c1dd7f",
   "metadata": {},
   "outputs": [
    {
     "name": "stdout",
     "output_type": "stream",
     "text": [
      "0.8571428571428571\n"
     ]
    }
   ],
   "source": [
    "print(a/b)"
   ]
  },
  {
   "cell_type": "code",
   "execution_count": 16,
   "id": "9253a8d8",
   "metadata": {},
   "outputs": [
    {
     "ename": "NameError",
     "evalue": "name 'pring' is not defined",
     "output_type": "error",
     "traceback": [
      "\u001b[1;31m---------------------------------------------------------------------------\u001b[0m",
      "\u001b[1;31mNameError\u001b[0m                                 Traceback (most recent call last)",
      "Input \u001b[1;32mIn [16]\u001b[0m, in \u001b[0;36m<cell line: 1>\u001b[1;34m()\u001b[0m\n\u001b[1;32m----> 1\u001b[0m \u001b[43mpring\u001b[49m(a\u001b[38;5;241m/\u001b[39m\u001b[38;5;241m/\u001b[39mb)\n",
      "\u001b[1;31mNameError\u001b[0m: name 'pring' is not defined"
     ]
    }
   ],
   "source": [
    "pring(a//b)"
   ]
  },
  {
   "cell_type": "code",
   "execution_count": 17,
   "id": "1722151d",
   "metadata": {},
   "outputs": [
    {
     "name": "stdout",
     "output_type": "stream",
     "text": [
      "0.0\n"
     ]
    }
   ],
   "source": [
    "print(a//b)"
   ]
  },
  {
   "cell_type": "code",
   "execution_count": 18,
   "id": "660b538b",
   "metadata": {},
   "outputs": [
    {
     "name": "stdout",
     "output_type": "stream",
     "text": [
      "3\n"
     ]
    }
   ],
   "source": [
    "two = 0b11\n",
    "print(two)"
   ]
  },
  {
   "cell_type": "code",
   "execution_count": 19,
   "id": "5330ac13",
   "metadata": {},
   "outputs": [
    {
     "name": "stdout",
     "output_type": "stream",
     "text": [
      "9\n"
     ]
    }
   ],
   "source": [
    "a = 0o11\n",
    "print(a)"
   ]
  },
  {
   "cell_type": "code",
   "execution_count": 20,
   "id": "96ccfd63",
   "metadata": {},
   "outputs": [
    {
     "name": "stdout",
     "output_type": "stream",
     "text": [
      "17\n"
     ]
    }
   ],
   "source": [
    "a = 0x11\n",
    "print(a)"
   ]
  },
  {
   "cell_type": "code",
   "execution_count": 21,
   "id": "44947cca",
   "metadata": {},
   "outputs": [
    {
     "name": "stdout",
     "output_type": "stream",
     "text": [
      "나이 21\n"
     ]
    }
   ],
   "source": [
    "age = 21 #각 내용을 ,(콤마)로 연결\n",
    "print('나이',age)"
   ]
  },
  {
   "cell_type": "code",
   "execution_count": 23,
   "id": "e453ddd0",
   "metadata": {},
   "outputs": [
    {
     "name": "stdout",
     "output_type": "stream",
     "text": [
      "나는 홍길동 입니다\n"
     ]
    }
   ],
   "source": [
    "name = '홍길동'\n",
    "print('나는', name, '입니다')"
   ]
  },
  {
   "cell_type": "code",
   "execution_count": 24,
   "id": "0e33ba35",
   "metadata": {},
   "outputs": [
    {
     "name": "stdout",
     "output_type": "stream",
     "text": [
      "3 * 3.5 = 10.5\n"
     ]
    }
   ],
   "source": [
    "a = 3\n",
    "b = 3.5\n",
    "print(a, '*', b, '=', a*b)"
   ]
  },
  {
   "cell_type": "code",
   "execution_count": 25,
   "id": "3d7bf9a6",
   "metadata": {},
   "outputs": [
    {
     "name": "stdout",
     "output_type": "stream",
     "text": [
      "3\n"
     ]
    }
   ],
   "source": [
    "print('%d' % 3) #[C언어] print('%d',3); 명령문과 동일"
   ]
  },
  {
   "cell_type": "code",
   "execution_count": 26,
   "id": "dfbdec10",
   "metadata": {},
   "outputs": [
    {
     "name": "stdout",
     "output_type": "stream",
     "text": [
      "3.500000\n"
     ]
    }
   ],
   "source": [
    "print('%f' % 3.5)"
   ]
  },
  {
   "cell_type": "code",
   "execution_count": 27,
   "id": "85a65eaf",
   "metadata": {},
   "outputs": [
    {
     "name": "stdout",
     "output_type": "stream",
     "text": [
      "룰루랄랄\n"
     ]
    }
   ],
   "source": [
    "name = input()"
   ]
  },
  {
   "cell_type": "code",
   "execution_count": 28,
   "id": "1b2cc4e9",
   "metadata": {},
   "outputs": [
    {
     "name": "stdout",
     "output_type": "stream",
     "text": [
      "이름: 이룰루\n"
     ]
    }
   ],
   "source": [
    "name = input('이름: ')"
   ]
  },
  {
   "cell_type": "code",
   "execution_count": 29,
   "id": "2a721356",
   "metadata": {},
   "outputs": [
    {
     "name": "stdout",
     "output_type": "stream",
     "text": [
      "이룰루\n"
     ]
    }
   ],
   "source": [
    "print(name)"
   ]
  },
  {
   "cell_type": "code",
   "execution_count": 30,
   "id": "f2671881",
   "metadata": {},
   "outputs": [
    {
     "name": "stdout",
     "output_type": "stream",
     "text": [
      "나이: 30\n"
     ]
    }
   ],
   "source": [
    "age = input('나이: ')"
   ]
  },
  {
   "cell_type": "code",
   "execution_count": 31,
   "id": "4b8dc232",
   "metadata": {},
   "outputs": [
    {
     "name": "stdout",
     "output_type": "stream",
     "text": [
      "30\n"
     ]
    }
   ],
   "source": [
    "print(age)"
   ]
  },
  {
   "cell_type": "code",
   "execution_count": 32,
   "id": "28e07d3e",
   "metadata": {},
   "outputs": [
    {
     "name": "stdout",
     "output_type": "stream",
     "text": [
      "몇 년 후? 3\n"
     ]
    }
   ],
   "source": [
    "after = input('몇 년 후? ')"
   ]
  },
  {
   "cell_type": "code",
   "execution_count": 33,
   "id": "e0976fdc",
   "metadata": {},
   "outputs": [
    {
     "name": "stdout",
     "output_type": "stream",
     "text": [
      "303\n"
     ]
    }
   ],
   "source": [
    "print(age + after)"
   ]
  },
  {
   "cell_type": "code",
   "execution_count": 34,
   "id": "4e8439fd",
   "metadata": {},
   "outputs": [
    {
     "name": "stdout",
     "output_type": "stream",
     "text": [
      "나이: 30\n"
     ]
    }
   ],
   "source": [
    "age = input('나이: ')"
   ]
  },
  {
   "cell_type": "code",
   "execution_count": 35,
   "id": "5eba496e",
   "metadata": {},
   "outputs": [
    {
     "name": "stdout",
     "output_type": "stream",
     "text": [
      "몇 년 후? 10\n"
     ]
    }
   ],
   "source": [
    "after = input('몇 년 후? ')"
   ]
  },
  {
   "cell_type": "code",
   "execution_count": 36,
   "id": "62be97fe",
   "metadata": {},
   "outputs": [
    {
     "name": "stdout",
     "output_type": "stream",
     "text": [
      "40\n"
     ]
    }
   ],
   "source": [
    "print(int(age) + int(after))"
   ]
  },
  {
   "cell_type": "code",
   "execution_count": 38,
   "id": "dbc84237",
   "metadata": {},
   "outputs": [
    {
     "ename": "SyntaxError",
     "evalue": "unexpected EOF while parsing (2263428628.py, line 1)",
     "output_type": "error",
     "traceback": [
      "\u001b[1;36m  Input \u001b[1;32mIn [38]\u001b[1;36m\u001b[0m\n\u001b[1;33m    print('나이 : ' + (str(21))\u001b[0m\n\u001b[1;37m                             ^\u001b[0m\n\u001b[1;31mSyntaxError\u001b[0m\u001b[1;31m:\u001b[0m unexpected EOF while parsing\n"
     ]
    }
   ],
   "source": [
    "print('나이 : ' + (str(21))"
   ]
  },
  {
   "cell_type": "code",
   "execution_count": 39,
   "id": "c7aa743b",
   "metadata": {},
   "outputs": [
    {
     "name": "stdout",
     "output_type": "stream",
     "text": [
      "나이 : 21\n"
     ]
    }
   ],
   "source": [
    "print('나이 : ' + str(21))"
   ]
  },
  {
   "cell_type": "code",
   "execution_count": 40,
   "id": "0847691c",
   "metadata": {},
   "outputs": [
    {
     "name": "stdout",
     "output_type": "stream",
     "text": [
      "나이: 21\n"
     ]
    }
   ],
   "source": [
    "age = input('나이: ')"
   ]
  },
  {
   "cell_type": "code",
   "execution_count": 41,
   "id": "9fe2b724",
   "metadata": {},
   "outputs": [
    {
     "name": "stdout",
     "output_type": "stream",
     "text": [
      "31\n"
     ]
    }
   ],
   "source": [
    "print(int(age) + 10)"
   ]
  },
  {
   "cell_type": "code",
   "execution_count": 42,
   "id": "65e28119",
   "metadata": {},
   "outputs": [
    {
     "ename": "TypeError",
     "evalue": "can only concatenate str (not \"int\") to str",
     "output_type": "error",
     "traceback": [
      "\u001b[1;31m---------------------------------------------------------------------------\u001b[0m",
      "\u001b[1;31mTypeError\u001b[0m                                 Traceback (most recent call last)",
      "Input \u001b[1;32mIn [42]\u001b[0m, in \u001b[0;36m<cell line: 1>\u001b[1;34m()\u001b[0m\n\u001b[1;32m----> 1\u001b[0m old \u001b[38;5;241m=\u001b[39m \u001b[43mage\u001b[49m\u001b[43m \u001b[49m\u001b[38;5;241;43m+\u001b[39;49m\u001b[43m \u001b[49m\u001b[38;5;241;43m10\u001b[39;49m\n\u001b[0;32m      2\u001b[0m \u001b[38;5;28mprint\u001b[39m(old)\n",
      "\u001b[1;31mTypeError\u001b[0m: can only concatenate str (not \"int\") to str"
     ]
    }
   ],
   "source": [
    "old = age + 10\n",
    "print(old)"
   ]
  },
  {
   "cell_type": "code",
   "execution_count": 43,
   "id": "024df22f",
   "metadata": {},
   "outputs": [
    {
     "ename": "SyntaxError",
     "evalue": "invalid syntax (2434514432.py, line 1)",
     "output_type": "error",
     "traceback": [
      "\u001b[1;36m  Input \u001b[1;32mIn [43]\u001b[1;36m\u001b[0m\n\u001b[1;33m    old = (int)age + 10\u001b[0m\n\u001b[1;37m               ^\u001b[0m\n\u001b[1;31mSyntaxError\u001b[0m\u001b[1;31m:\u001b[0m invalid syntax\n"
     ]
    }
   ],
   "source": [
    "old = (int)age + 10\n",
    "print(old)"
   ]
  },
  {
   "cell_type": "code",
   "execution_count": 44,
   "id": "4df2ef48",
   "metadata": {},
   "outputs": [
    {
     "name": "stdout",
     "output_type": "stream",
     "text": [
      "31\n"
     ]
    }
   ],
   "source": [
    "old = int(age) + 10\n",
    "print(old)"
   ]
  },
  {
   "cell_type": "code",
   "execution_count": 45,
   "id": "685e4970",
   "metadata": {},
   "outputs": [
    {
     "data": {
      "text/plain": [
       "int"
      ]
     },
     "execution_count": 45,
     "metadata": {},
     "output_type": "execute_result"
    }
   ],
   "source": [
    "age = int(age)\n",
    "type(age)"
   ]
  },
  {
   "cell_type": "code",
   "execution_count": 46,
   "id": "f8e213dc",
   "metadata": {},
   "outputs": [
    {
     "name": "stdout",
     "output_type": "stream",
     "text": [
      "31\n"
     ]
    }
   ],
   "source": [
    "old = int(age) + 10\n",
    "print(old)"
   ]
  },
  {
   "cell_type": "code",
   "execution_count": 47,
   "id": "ac32a9fa",
   "metadata": {},
   "outputs": [
    {
     "name": "stdout",
     "output_type": "stream",
     "text": [
      "31\n"
     ]
    }
   ],
   "source": [
    "old = age + 10\n",
    "print(old)"
   ]
  },
  {
   "cell_type": "code",
   "execution_count": 48,
   "id": "d31e1f38",
   "metadata": {},
   "outputs": [
    {
     "name": "stdout",
     "output_type": "stream",
     "text": [
      "키 : 175.2\n"
     ]
    }
   ],
   "source": [
    "height = input('키 : ')"
   ]
  },
  {
   "cell_type": "code",
   "execution_count": 49,
   "id": "d09a20f5",
   "metadata": {},
   "outputs": [
    {
     "data": {
      "text/plain": [
       "str"
      ]
     },
     "execution_count": 49,
     "metadata": {},
     "output_type": "execute_result"
    }
   ],
   "source": [
    "type(height\n",
    "    )"
   ]
  },
  {
   "cell_type": "code",
   "execution_count": 50,
   "id": "1795a040",
   "metadata": {},
   "outputs": [
    {
     "name": "stdout",
     "output_type": "stream",
     "text": [
      "176.7 cm\n"
     ]
    }
   ],
   "source": [
    "print(float(height)+1.5, 'cm')"
   ]
  },
  {
   "cell_type": "code",
   "execution_count": 52,
   "id": "f359c344",
   "metadata": {},
   "outputs": [
    {
     "name": "stdout",
     "output_type": "stream",
     "text": [
      "5\n"
     ]
    }
   ],
   "source": [
    "num = 5.5\n",
    "print(int(num))"
   ]
  },
  {
   "cell_type": "code",
   "execution_count": 53,
   "id": "0de8aa1c",
   "metadata": {},
   "outputs": [
    {
     "name": "stdout",
     "output_type": "stream",
     "text": [
      "5\n"
     ]
    }
   ],
   "source": [
    "a = '5'\n",
    "print(int(a))"
   ]
  },
  {
   "cell_type": "code",
   "execution_count": 54,
   "id": "fbf8e5b1",
   "metadata": {},
   "outputs": [
    {
     "name": "stdout",
     "output_type": "stream",
     "text": [
      "5.5\n"
     ]
    }
   ],
   "source": [
    "b = '5.5'\n",
    "print(float(b))"
   ]
  },
  {
   "cell_type": "code",
   "execution_count": 1,
   "id": "34bc4403",
   "metadata": {},
   "outputs": [
    {
     "name": "stdout",
     "output_type": "stream",
     "text": [
      "5\n",
      "15\n"
     ]
    }
   ],
   "source": [
    "print(int(input())*3)"
   ]
  },
  {
   "cell_type": "code",
   "execution_count": null,
   "id": "5a1a3580",
   "metadata": {},
   "outputs": [],
   "source": []
  }
 ],
 "metadata": {
  "kernelspec": {
   "display_name": "Python 3 (ipykernel)",
   "language": "python",
   "name": "python3"
  },
  "language_info": {
   "codemirror_mode": {
    "name": "ipython",
    "version": 3
   },
   "file_extension": ".py",
   "mimetype": "text/x-python",
   "name": "python",
   "nbconvert_exporter": "python",
   "pygments_lexer": "ipython3",
   "version": "3.9.12"
  }
 },
 "nbformat": 4,
 "nbformat_minor": 5
}
