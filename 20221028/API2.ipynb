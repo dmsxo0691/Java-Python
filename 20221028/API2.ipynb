{
 "cells": [
  {
   "cell_type": "code",
   "execution_count": 1,
   "metadata": {},
   "outputs": [
    {
     "name": "stdout",
     "output_type": "stream",
     "text": [
      "Defaulting to user installation because normal site-packages is not writeable\n",
      "Requirement already satisfied: PublicDataReader==1.0.1 in c:\\users\\kga_09\\appdata\\roaming\\python\\python39\\site-packages (1.0.1)\n",
      "Note: you may need to restart the kernel to use updated packages.\n"
     ]
    }
   ],
   "source": [
    "pip install PublicDataReader==1.0.1"
   ]
  },
  {
   "cell_type": "code",
   "execution_count": 11,
   "metadata": {},
   "outputs": [
    {
     "name": "stdout",
     "output_type": "stream",
     "text": [
      "1.0.1\n"
     ]
    }
   ],
   "source": [
    "# 1. 라이브러리 임포트 및 버전 확인하기\n",
    "import PublicDataReader as pdr\n",
    "print(pdr.__version__)\n"
   ]
  },
  {
   "cell_type": "code",
   "execution_count": 12,
   "metadata": {},
   "outputs": [],
   "source": [
    "\n",
    "# 2. 서울 열린데이터 광장 OpenAPI 서비스 인증키 입력하기\n",
    "serviceKey = \"5a66456b54706b733839454b5a5850\"\n"
   ]
  },
  {
   "cell_type": "code",
   "execution_count": 13,
   "metadata": {},
   "outputs": [],
   "source": [
    "\n",
    "# 3. 데이터 조회 세션 정의하기\n",
    "# debug: True이면 모든 메시지 출력, False이면 오류 메시지만 출력 (기본값: False)\n",
    "tp = pdr.Transportation(serviceKey, debug=True)\n"
   ]
  },
  {
   "cell_type": "code",
   "execution_count": 17,
   "metadata": {},
   "outputs": [],
   "source": [
    "\n",
    "# 4. 서울시 지하철호선별 역별 승하차 인원 정보\n",
    "category = \"지하철승하차\"\n",
    "date = \"20211001\"\n",
    "\n",
    "df = tp.read_data(category=category, date=date)\n"
   ]
  },
  {
   "cell_type": "code",
   "execution_count": 18,
   "metadata": {},
   "outputs": [
    {
     "data": {
      "text/html": [
       "<div>\n",
       "<style scoped>\n",
       "    .dataframe tbody tr th:only-of-type {\n",
       "        vertical-align: middle;\n",
       "    }\n",
       "\n",
       "    .dataframe tbody tr th {\n",
       "        vertical-align: top;\n",
       "    }\n",
       "\n",
       "    .dataframe thead th {\n",
       "        text-align: right;\n",
       "    }\n",
       "</style>\n",
       "<table border=\"1\" class=\"dataframe\">\n",
       "  <thead>\n",
       "    <tr style=\"text-align: right;\">\n",
       "      <th></th>\n",
       "      <th>사용일자</th>\n",
       "      <th>호선명</th>\n",
       "      <th>역명</th>\n",
       "      <th>승차총승객수</th>\n",
       "      <th>하차총승객수</th>\n",
       "      <th>등록일자</th>\n",
       "    </tr>\n",
       "  </thead>\n",
       "  <tbody>\n",
       "    <tr>\n",
       "      <th>0</th>\n",
       "      <td>20211001</td>\n",
       "      <td>1호선</td>\n",
       "      <td>서울역</td>\n",
       "      <td>42350</td>\n",
       "      <td>41754</td>\n",
       "      <td>20211004</td>\n",
       "    </tr>\n",
       "    <tr>\n",
       "      <th>1</th>\n",
       "      <td>20211001</td>\n",
       "      <td>1호선</td>\n",
       "      <td>동묘앞</td>\n",
       "      <td>8313</td>\n",
       "      <td>8702</td>\n",
       "      <td>20211004</td>\n",
       "    </tr>\n",
       "    <tr>\n",
       "      <th>2</th>\n",
       "      <td>20211001</td>\n",
       "      <td>1호선</td>\n",
       "      <td>시청</td>\n",
       "      <td>20150</td>\n",
       "      <td>20341</td>\n",
       "      <td>20211004</td>\n",
       "    </tr>\n",
       "    <tr>\n",
       "      <th>3</th>\n",
       "      <td>20211001</td>\n",
       "      <td>1호선</td>\n",
       "      <td>종각</td>\n",
       "      <td>32153</td>\n",
       "      <td>30932</td>\n",
       "      <td>20211004</td>\n",
       "    </tr>\n",
       "    <tr>\n",
       "      <th>4</th>\n",
       "      <td>20211001</td>\n",
       "      <td>1호선</td>\n",
       "      <td>종로3가</td>\n",
       "      <td>24611</td>\n",
       "      <td>22445</td>\n",
       "      <td>20211004</td>\n",
       "    </tr>\n",
       "    <tr>\n",
       "      <th>...</th>\n",
       "      <td>...</td>\n",
       "      <td>...</td>\n",
       "      <td>...</td>\n",
       "      <td>...</td>\n",
       "      <td>...</td>\n",
       "      <td>...</td>\n",
       "    </tr>\n",
       "    <tr>\n",
       "      <th>598</th>\n",
       "      <td>20211001</td>\n",
       "      <td>중앙선</td>\n",
       "      <td>오빈</td>\n",
       "      <td>319</td>\n",
       "      <td>326</td>\n",
       "      <td>20211004</td>\n",
       "    </tr>\n",
       "    <tr>\n",
       "      <th>599</th>\n",
       "      <td>20211001</td>\n",
       "      <td>중앙선</td>\n",
       "      <td>양평</td>\n",
       "      <td>2701</td>\n",
       "      <td>2904</td>\n",
       "      <td>20211004</td>\n",
       "    </tr>\n",
       "    <tr>\n",
       "      <th>600</th>\n",
       "      <td>20211001</td>\n",
       "      <td>중앙선</td>\n",
       "      <td>원덕</td>\n",
       "      <td>376</td>\n",
       "      <td>385</td>\n",
       "      <td>20211004</td>\n",
       "    </tr>\n",
       "    <tr>\n",
       "      <th>601</th>\n",
       "      <td>20211001</td>\n",
       "      <td>중앙선</td>\n",
       "      <td>용문</td>\n",
       "      <td>1971</td>\n",
       "      <td>2116</td>\n",
       "      <td>20211004</td>\n",
       "    </tr>\n",
       "    <tr>\n",
       "      <th>602</th>\n",
       "      <td>20211001</td>\n",
       "      <td>중앙선</td>\n",
       "      <td>지평</td>\n",
       "      <td>64</td>\n",
       "      <td>99</td>\n",
       "      <td>20211004</td>\n",
       "    </tr>\n",
       "  </tbody>\n",
       "</table>\n",
       "<p>603 rows × 6 columns</p>\n",
       "</div>"
      ],
      "text/plain": [
       "         사용일자  호선명    역명 승차총승객수 하차총승객수      등록일자\n",
       "0    20211001  1호선   서울역  42350  41754  20211004\n",
       "1    20211001  1호선   동묘앞   8313   8702  20211004\n",
       "2    20211001  1호선    시청  20150  20341  20211004\n",
       "3    20211001  1호선    종각  32153  30932  20211004\n",
       "4    20211001  1호선  종로3가  24611  22445  20211004\n",
       "..        ...  ...   ...    ...    ...       ...\n",
       "598  20211001  중앙선    오빈    319    326  20211004\n",
       "599  20211001  중앙선    양평   2701   2904  20211004\n",
       "600  20211001  중앙선    원덕    376    385  20211004\n",
       "601  20211001  중앙선    용문   1971   2116  20211004\n",
       "602  20211001  중앙선    지평     64     99  20211004\n",
       "\n",
       "[603 rows x 6 columns]"
      ]
     },
     "execution_count": 18,
     "metadata": {},
     "output_type": "execute_result"
    }
   ],
   "source": [
    "df"
   ]
  },
  {
   "cell_type": "code",
   "execution_count": null,
   "metadata": {},
   "outputs": [],
   "source": []
  }
 ],
 "metadata": {
  "kernelspec": {
   "display_name": "Python 3.9.12 ('base')",
   "language": "python",
   "name": "python3"
  },
  "language_info": {
   "codemirror_mode": {
    "name": "ipython",
    "version": 3
   },
   "file_extension": ".py",
   "mimetype": "text/x-python",
   "name": "python",
   "nbconvert_exporter": "python",
   "pygments_lexer": "ipython3",
   "version": "3.9.12"
  },
  "orig_nbformat": 4,
  "vscode": {
   "interpreter": {
    "hash": "ad2bdc8ecc057115af97d19610ffacc2b4e99fae6737bb82f5d7fb13d2f2c186"
   }
  }
 },
 "nbformat": 4,
 "nbformat_minor": 2
}
