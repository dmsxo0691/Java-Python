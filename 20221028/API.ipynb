{
 "cells": [
  {
   "cell_type": "code",
   "execution_count": 1,
   "metadata": {},
   "outputs": [
    {
     "name": "stdout",
     "output_type": "stream",
     "text": [
      "Defaulting to user installation because normal site-packages is not writeable\n",
      "Collecting PublicDataReader==1.0.1\n",
      "  Downloading PublicDataReader-1.0.1-py3-none-any.whl (1.3 MB)\n",
      "Installing collected packages: PublicDataReader\n",
      "Successfully installed PublicDataReader-1.0.1\n",
      "Note: you may need to restart the kernel to use updated packages.\n"
     ]
    }
   ],
   "source": [
    "pip install PublicDataReader==1.0.1"
   ]
  },
  {
   "cell_type": "code",
   "execution_count": 2,
   "metadata": {},
   "outputs": [
    {
     "name": "stdout",
     "output_type": "stream",
     "text": [
      "1.0.1\n"
     ]
    }
   ],
   "source": [
    "# 1. 라이브러리 임포트하기\n",
    "import PublicDataReader as pdr\n",
    "print(pdr.__version__)"
   ]
  },
  {
   "cell_type": "code",
   "execution_count": 3,
   "metadata": {},
   "outputs": [
    {
     "name": "stderr",
     "output_type": "stream",
     "text": [
      "[INFO] 아파트 매매 조회 서비스 정상 - (00) NORMAL SERVICE.\n",
      "[ERROR] 아파트 전월세 조회 서비스 오류 - (99) SERVICE ACCESS DENIED ERROR.\n",
      "[ERROR] 오피스텔 매매 조회 서비스 오류 - (99) SERVICE ACCESS DENIED ERROR.\n",
      "[ERROR] 오피스텔 전월세 조회 서비스 오류 - (99) SERVICE ACCESS DENIED ERROR.\n",
      "[ERROR] 단독다가구 매매 조회 서비스 오류 - (99) SERVICE ACCESS DENIED ERROR.\n",
      "[ERROR] 단독다가구 전월세 조회 서비스 오류 - (99) SERVICE ACCESS DENIED ERROR.\n",
      "[ERROR] 연립다세대 매매 조회 서비스 오류 - (99) SERVICE ACCESS DENIED ERROR.\n",
      "[ERROR] 연립다세대 전월세 조회 서비스 오류 - (99) SERVICE ACCESS DENIED ERROR.\n",
      "[ERROR] 상업업무용 매매 조회 서비스 오류 - (99) SERVICE ACCESS DENIED ERROR.\n",
      "[ERROR] 토지 매매 조회 서비스 오류 - (99) SERVICE ACCESS DENIED ERROR.\n",
      "[ERROR] 분양입주권 매매 조회 서비스 오류 - (99) SERVICE ACCESS DENIED ERROR.\n",
      "[ERROR] 공장창고등 매매 조회 서비스 오류 - (99) SERVICE ACCESS DENIED ERROR.\n"
     ]
    }
   ],
   "source": [
    "# 2. 공공 데이터 포털 OpenAPI 서비스 인증키 입력하기\n",
    "serviceKey = \"2YQ4KArUIPndbv0InaJaR0VY7IR6a0%2BL9%2FhKI7Sy7RdUX4iYn9MXX6hNzP3lahJhKpEPJy%2FIXtPpobMcVldYgw%3D%3D\"\n",
    "\n",
    "# 3. 국토교통부 실거래가 정보 조회 OpenAPI 세션 정의하기\n",
    "# debug: True이면 모든 메시지 출력, False이면 오류 메시지만 출력 (기본값: False)\n",
    "ts = pdr.Transaction(serviceKey, debug=True)"
   ]
  },
  {
   "cell_type": "code",
   "execution_count": 6,
   "metadata": {},
   "outputs": [
    {
     "data": {
      "text/html": [
       "<div>\n",
       "<style scoped>\n",
       "    .dataframe tbody tr th:only-of-type {\n",
       "        vertical-align: middle;\n",
       "    }\n",
       "\n",
       "    .dataframe tbody tr th {\n",
       "        vertical-align: top;\n",
       "    }\n",
       "\n",
       "    .dataframe thead th {\n",
       "        text-align: right;\n",
       "    }\n",
       "</style>\n",
       "<table border=\"1\" class=\"dataframe\">\n",
       "  <thead>\n",
       "    <tr style=\"text-align: right;\">\n",
       "      <th></th>\n",
       "      <th>시도코드</th>\n",
       "      <th>시도명</th>\n",
       "      <th>시군구코드</th>\n",
       "      <th>시군구명</th>\n",
       "      <th>법정동코드</th>\n",
       "      <th>읍면동명</th>\n",
       "      <th>동리명</th>\n",
       "      <th>생성일자</th>\n",
       "      <th>말소일자</th>\n",
       "    </tr>\n",
       "  </thead>\n",
       "  <tbody>\n",
       "    <tr>\n",
       "      <th>5152</th>\n",
       "      <td>41</td>\n",
       "      <td>경기도</td>\n",
       "      <td>41135</td>\n",
       "      <td>성남시 분당구</td>\n",
       "      <td>4113500000</td>\n",
       "      <td>NaN</td>\n",
       "      <td>NaN</td>\n",
       "      <td>19910916</td>\n",
       "      <td>NaN</td>\n",
       "    </tr>\n",
       "  </tbody>\n",
       "</table>\n",
       "</div>"
      ],
      "text/plain": [
       "     시도코드  시도명  시군구코드     시군구명       법정동코드 읍면동명  동리명      생성일자 말소일자\n",
       "5152   41  경기도  41135  성남시 분당구  4113500000  NaN  NaN  19910916  NaN"
      ]
     },
     "execution_count": 6,
     "metadata": {},
     "output_type": "execute_result"
    }
   ],
   "source": [
    "# 4. 지역코드(시군구코드) 검색하기\n",
    "sigunguName = \"분당구\"                                  # 시군구코드: 41135\n",
    "code = pdr.code_bdong()\n",
    "code.loc[(code['시군구명'].str.contains(sigunguName, na=False)) &\n",
    "         (code['읍면동명'].isna())]\n"
   ]
  },
  {
   "cell_type": "code",
   "execution_count": 7,
   "metadata": {},
   "outputs": [],
   "source": [
    "\n",
    "# 5. 지역, 월 별 데이터 프레임 만들기\n",
    "prod=\"아파트\"                                           # 부동산 상품 종류 (ex. 아파트, 오피스텔, 단독다가구 등)\n",
    "trans=\"매매\"                                            # 부동산 거래 유형 (ex. 매매, 전월세)\n",
    "sigunguCode=\"41135\"\n",
    "yearMonth=\"202101\"\n",
    "\n",
    "df = ts.read_data(prod, trans, sigunguCode, yearMonth)"
   ]
  },
  {
   "cell_type": "code",
   "execution_count": 8,
   "metadata": {},
   "outputs": [
    {
     "name": "stderr",
     "output_type": "stream",
     "text": [
      "[INFO] 아파트 매매 202101 조회 시작\n",
      "[INFO] 아파트 매매 202102 조회 시작\n",
      "[INFO] 아파트 매매 202103 조회 시작\n",
      "[INFO] 아파트 매매 202104 조회 시작\n",
      "[INFO] 아파트 매매 202105 조회 시작\n",
      "[INFO] 아파트 매매 202106 조회 시작\n",
      "[INFO] 아파트 매매 202107 조회 시작\n",
      "[INFO] 아파트 매매 202108 조회 시작\n",
      "[INFO] 아파트 매매 202109 조회 시작\n",
      "[INFO] 아파트 매매 202110 조회 시작\n",
      "[INFO] 아파트 매매 202111 조회 시작\n"
     ]
    }
   ],
   "source": [
    "# 6. 지역, 기간 별 데이터 프레임 만들기\n",
    "prod=\"아파트\"                                           # 부동산 상품 종류 (ex. 아파트, 오피스텔, 단독다가구 등)\n",
    "trans=\"매매\"                                            # 부동산 거래 유형 (ex. 매매, 전월세)\n",
    "sigunguCode=\"41135\"\n",
    "startYearMonth=\"202101\"\n",
    "endYearMonth=\"202111\"\n",
    "\n",
    "df = ts.collect_data(prod, trans, sigunguCode, startYearMonth, endYearMonth)"
   ]
  },
  {
   "cell_type": "code",
   "execution_count": 10,
   "metadata": {},
   "outputs": [],
   "source": [
    "df.to_excel('result_202101_202111.xlsx') # 파일 저장"
   ]
  },
  {
   "cell_type": "code",
   "execution_count": null,
   "metadata": {},
   "outputs": [],
   "source": []
  }
 ],
 "metadata": {
  "kernelspec": {
   "display_name": "Python 3.9.12 ('base')",
   "language": "python",
   "name": "python3"
  },
  "language_info": {
   "codemirror_mode": {
    "name": "ipython",
    "version": 3
   },
   "file_extension": ".py",
   "mimetype": "text/x-python",
   "name": "python",
   "nbconvert_exporter": "python",
   "pygments_lexer": "ipython3",
   "version": "3.9.12"
  },
  "orig_nbformat": 4,
  "vscode": {
   "interpreter": {
    "hash": "ad2bdc8ecc057115af97d19610ffacc2b4e99fae6737bb82f5d7fb13d2f2c186"
   }
  }
 },
 "nbformat": 4,
 "nbformat_minor": 2
}
